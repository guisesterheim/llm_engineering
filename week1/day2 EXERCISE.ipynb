{
 "cells": [
  {
   "cell_type": "markdown",
   "id": "d15d8294-3328-4e07-ad16-8a03e9bbfdb9",
   "metadata": {},
   "source": [
    "# Welcome to your first assignment!\n",
    "\n",
    "Instructions are below. Please give this a try, and look in the solutions folder if you get stuck (or feel free to ask me!)"
   ]
  },
  {
   "cell_type": "markdown",
   "id": "ada885d9-4d42-4d9b-97f0-74fbbbfe93a9",
   "metadata": {},
   "source": [
    "<table style=\"margin: 0; text-align: left;\">\n",
    "    <tr>\n",
    "        <td style=\"width: 150px; height: 150px; vertical-align: middle;\">\n",
    "            <img src=\"../resources.jpg\" width=\"150\" height=\"150\" style=\"display: block;\" />\n",
    "        </td>\n",
    "        <td>\n",
    "            <h2 style=\"color:#f71;\">Just before we get to the assignment --</h2>\n",
    "            <span style=\"color:#f71;\">I thought I'd take a second to point you at this page of useful resources for the course. This includes links to all the slides.<br/>\n",
    "            <a href=\"https://edwarddonner.com/2024/11/13/llm-engineering-resources/\">https://edwarddonner.com/2024/11/13/llm-engineering-resources/</a><br/>\n",
    "            Please keep this bookmarked, and I'll continue to add more useful links there over time.\n",
    "            </span>\n",
    "        </td>\n",
    "    </tr>\n",
    "</table>"
   ]
  },
  {
   "cell_type": "markdown",
   "id": "6e9fa1fc-eac5-4d1d-9be4-541b3f2b3458",
   "metadata": {},
   "source": [
    "# HOMEWORK EXERCISE ASSIGNMENT\n",
    "\n",
    "Upgrade the day 1 project to summarize a webpage to use an Open Source model running locally via Ollama rather than OpenAI\n",
    "\n",
    "You'll be able to use this technique for all subsequent projects if you'd prefer not to use paid APIs.\n",
    "\n",
    "**Benefits:**\n",
    "1. No API charges - open-source\n",
    "2. Data doesn't leave your box\n",
    "\n",
    "**Disadvantages:**\n",
    "1. Significantly less power than Frontier Model\n",
    "\n",
    "## Recap on installation of Ollama\n",
    "\n",
    "Simply visit [ollama.com](https://ollama.com) and install!\n",
    "\n",
    "Once complete, the ollama server should already be running locally.  \n",
    "If you visit:  \n",
    "[http://localhost:11434/](http://localhost:11434/)\n",
    "\n",
    "You should see the message `Ollama is running`.  \n",
    "\n",
    "If not, bring up a new Terminal (Mac) or Powershell (Windows) and enter `ollama serve`  \n",
    "And in another Terminal (Mac) or Powershell (Windows), enter `ollama pull llama3.2`  \n",
    "Then try [http://localhost:11434/](http://localhost:11434/) again.\n",
    "\n",
    "If Ollama is slow on your machine, try using `llama3.2:1b` as an alternative. Run `ollama pull llama3.2:1b` from a Terminal or Powershell, and change the code below from `MODEL = \"llama3.2\"` to `MODEL = \"llama3.2:1b\"`"
   ]
  },
  {
   "cell_type": "code",
   "execution_count": 1,
   "id": "4e2a9393-7767-488e-a8bf-27c12dca35bd",
   "metadata": {},
   "outputs": [],
   "source": [
    "# imports\n",
    "\n",
    "import requests\n",
    "from bs4 import BeautifulSoup\n",
    "from IPython.display import Markdown, display"
   ]
  },
  {
   "cell_type": "code",
   "execution_count": 2,
   "id": "29ddd15d-a3c5-4f4e-a678-873f56162724",
   "metadata": {},
   "outputs": [],
   "source": [
    "# Constants\n",
    "\n",
    "OLLAMA_API = \"http://localhost:11434/api/chat\"\n",
    "HEADERS = {\"Content-Type\": \"application/json\"}\n",
    "MODEL = \"llama3.2\""
   ]
  },
  {
   "cell_type": "code",
   "execution_count": 3,
   "id": "dac0a679-599c-441f-9bf2-ddc73d35b940",
   "metadata": {},
   "outputs": [],
   "source": [
    "# Create a messages list using the same format that we used for OpenAI\n",
    "\n",
    "messages = [\n",
    "    {\"role\": \"user\", \"content\": \"Describe some of the business applications of Generative AI\"}\n",
    "]"
   ]
  },
  {
   "cell_type": "code",
   "execution_count": 4,
   "id": "7bb9c624-14f0-4945-a719-8ddb64f66f47",
   "metadata": {},
   "outputs": [],
   "source": [
    "payload = {\n",
    "        \"model\": MODEL,\n",
    "        \"messages\": messages,\n",
    "        \"stream\": False\n",
    "    }"
   ]
  },
  {
   "cell_type": "code",
   "execution_count": 6,
   "id": "479ff514-e8bd-4985-a572-2ea28bb4fa40",
   "metadata": {},
   "outputs": [
    {
     "name": "stdout",
     "output_type": "stream",
     "text": [
      "\u001b[?25lpulling manifest ⠋ \u001b[?25h\u001b[?25l\u001b[2K\u001b[1Gpulling manifest ⠙ \u001b[?25h\u001b[?25l\u001b[2K\u001b[1Gpulling manifest \n",
      "pulling dde5aa3fc5ff... 100% ▕████████████████▏ 2.0 GB                         \n",
      "pulling 966de95ca8a6... 100% ▕████████████████▏ 1.4 KB                         \n",
      "pulling fcc5a6bec9da... 100% ▕████████████████▏ 7.7 KB                         \n",
      "pulling a70ff7e570d9... 100% ▕████████████████▏ 6.0 KB                         \n",
      "pulling 56bb8bd477a5... 100% ▕████████████████▏   96 B                         \n",
      "pulling 34bb5ab01051... 100% ▕████████████████▏  561 B                         \n",
      "verifying sha256 digest \n",
      "writing manifest \n",
      "success \u001b[?25h\n"
     ]
    }
   ],
   "source": [
    "# Let's just make sure the model is loaded\n",
    "\n",
    "!ollama pull llama3.2"
   ]
  },
  {
   "cell_type": "code",
   "execution_count": 7,
   "id": "42b9f644-522d-4e05-a691-56e7658c0ea9",
   "metadata": {},
   "outputs": [
    {
     "name": "stdout",
     "output_type": "stream",
     "text": [
      "Generative AI has numerous business applications across various industries. Some examples include:\n",
      "\n",
      "1. **Content Creation**: Generative AI can be used to generate high-quality content such as articles, social media posts, and product descriptions. This can help businesses save time and resources on content creation.\n",
      "\n",
      "2. **Personalized Recommendations**: Generative AI algorithms can analyze user behavior and preferences to provide personalized recommendations for products or services.\n",
      "\n",
      "3. **Design and Prototyping**: Generative AI can be used to generate 2D and 3D designs, prototypes, and models, which can help businesses save time and money on design and prototyping.\n",
      "\n",
      "4. **Chatbots and Customer Service**: Generative AI-powered chatbots can provide 24/7 customer service and support, helping businesses improve their customer experience.\n",
      "\n",
      "5. **Marketing and Advertising**: Generative AI can be used to generate ad copy, social media posts, and product descriptions that are more engaging and effective at grabbing the attention of potential customers.\n",
      "\n",
      "6. **Risk Management and Compliance**: Generative AI can help businesses identify potential risks and compliance issues by analyzing large datasets and identifying patterns and anomalies.\n",
      "\n",
      "7. **Supply Chain Optimization**: Generative AI can be used to optimize supply chain logistics, predict demand, and identify bottlenecks in the supply chain.\n",
      "\n",
      "8. **Financial Analysis and Forecasting**: Generative AI can analyze financial data and provide predictions on future trends and market movements, helping businesses make more informed investment decisions.\n",
      "\n",
      "9. **Product Development**: Generative AI can be used to generate new product ideas, optimize product designs, and predict consumer preferences.\n",
      "\n",
      "10. **Healthcare and Medical Research**: Generative AI can be used to analyze medical images, identify patterns in patient data, and develop personalized treatment plans.\n",
      "\n",
      "11. **Automated Writing and Editing**: Generative AI can help businesses automate the writing and editing process for articles, blog posts, and other written content.\n",
      "\n",
      "12. **Data Augmentation**: Generative AI can be used to generate new and synthetic data that can be used to augment existing datasets and improve machine learning models.\n",
      "\n",
      "13. **Predictive Maintenance**: Generative AI can be used to predict equipment failures and maintenance needs, helping businesses reduce downtime and improve efficiency.\n",
      "\n",
      "14. **Supply Chain Risk Management**: Generative AI can help businesses identify potential risks in their supply chain, such as supplier bankruptcy or natural disasters.\n",
      "\n",
      "15. **Financial Modeling**: Generative AI can help businesses create more accurate financial models by analyzing large datasets and identifying patterns and trends.\n",
      "\n",
      "These are just a few examples of the many business applications of Generative AI. As the technology continues to evolve, we can expect to see even more innovative uses in various industries.\n"
     ]
    }
   ],
   "source": [
    "# If this doesn't work for any reason, try the 2 versions in the following cells\n",
    "# And double check the instructions in the 'Recap on installation of Ollama' at the top of this lab\n",
    "# And if none of that works - contact me!\n",
    "\n",
    "response = requests.post(OLLAMA_API, json=payload, headers=HEADERS)\n",
    "print(response.json()['message']['content'])"
   ]
  },
  {
   "cell_type": "markdown",
   "id": "6a021f13-d6a1-4b96-8e18-4eae49d876fe",
   "metadata": {},
   "source": [
    "# Introducing the ollama package\n",
    "\n",
    "And now we'll do the same thing, but using the elegant ollama python package instead of a direct HTTP call.\n",
    "\n",
    "Under the hood, it's making the same call as above to the ollama server running at localhost:11434"
   ]
  },
  {
   "cell_type": "code",
   "execution_count": 8,
   "id": "7745b9c4-57dc-4867-9180-61fa5db55eb8",
   "metadata": {},
   "outputs": [
    {
     "name": "stdout",
     "output_type": "stream",
     "text": [
      "Generative Artificial Intelligence (AI) has numerous business applications across various industries, including:\n",
      "\n",
      "1. **Content Creation**: Generative AI can generate high-quality content such as images, videos, music, and text. This technology is being used in media companies to create original content, replace traditional writers and artists, or even help with editing tasks.\n",
      "2. **Personalization**: Generative AI can analyze customer data and behavior to provide personalized recommendations, products, or services. For example, an e-commerce platform can use generative AI to recommend products based on a user's browsing history and purchase behavior.\n",
      "3. **Chatbots and Virtual Assistants**: Generative AI-powered chatbots can understand natural language and respond accordingly, providing customer support and assistance. This technology is being used in customer service departments to improve response times and provide more accurate answers.\n",
      "4. **Marketing Automation**: Generative AI can generate marketing materials such as emails, social media posts, and ads based on customer data and behavior. This technology can help marketers automate their campaigns and optimize their reach.\n",
      "5. **Predictive Analytics**: Generative AI can analyze large datasets to identify patterns and predict future trends. This technology is being used in industries such as finance, healthcare, and logistics to forecast sales, detect anomalies, and make informed business decisions.\n",
      "6. **Automated Translation**: Generative AI-powered translation tools can translate text, speech, or images from one language to another. This technology is being used in the translation industry to improve accuracy and speed up translation processes.\n",
      "7. **Design and Engineering**: Generative AI can assist designers and engineers in creating new designs, prototypes, and products. For example, an AI-powered design tool can generate multiple product designs based on a set of specifications and constraints.\n",
      "8. **Music Composition**: Generative AI can create original music tracks or even entire albums. This technology is being used in the music industry to help composers and producers create new sounds and styles.\n",
      "9. **Data Analysis**: Generative AI can analyze large datasets to identify patterns, trends, and insights that may not be visible to human analysts. This technology is being used in industries such as finance, healthcare, and marketing to gain deeper insights into customer behavior and market trends.\n",
      "10. **Cybersecurity**: Generative AI-powered security systems can detect and respond to cyber threats more quickly and accurately than traditional systems. For example, an AI-powered intrusion detection system can identify suspicious network activity and alert security teams.\n",
      "\n",
      "Some specific business applications of generative AI include:\n",
      "\n",
      "* **Product design**: Using generative AI to create new product designs, such as cars or furniture.\n",
      "* **Customer service**: Using generative AI-powered chatbots to provide 24/7 customer support.\n",
      "* **Marketing automation**: Using generative AI to generate personalized marketing materials and automate email campaigns.\n",
      "* **Supply chain optimization**: Using generative AI to predict demand and optimize supply chain operations.\n",
      "* **Predictive maintenance**: Using generative AI to predict equipment failures and schedule maintenance.\n",
      "\n",
      "Overall, generative AI has the potential to transform businesses across various industries by automating tasks, improving decision-making, and creating new products and services.\n"
     ]
    }
   ],
   "source": [
    "import ollama\n",
    "\n",
    "response = ollama.chat(model=MODEL, messages=messages)\n",
    "print(response['message']['content'])"
   ]
  },
  {
   "cell_type": "markdown",
   "id": "a4704e10-f5fb-4c15-a935-f046c06fb13d",
   "metadata": {},
   "source": [
    "## Alternative approach - using OpenAI python library to connect to Ollama"
   ]
  },
  {
   "cell_type": "code",
   "execution_count": 10,
   "id": "23057e00-b6fc-4678-93a9-6b31cb704bff",
   "metadata": {},
   "outputs": [
    {
     "data": {
      "text/markdown": [
       "Generative AI has numerous business applications across various industries, including:\n",
       "\n",
       "1. **Content Creation**: Generative AI can generate high-quality content such as articles, blog posts, product descriptions, and social media posts. This can help businesses save time and resources on content creation.\n",
       "2. **Design and Visual Content**: Generative AI can create designs for branding, logos, infographics, and other visual content. This can be used in various industries such as fashion, advertising, and education.\n",
       "3. **Music and Audio**: Generative AI can compose music, generate sound effects, and even create voiceovers for videos.\n",
       "4. **Product Development**: Generative AI can be used to create new product designs, suggest alternatives to existing products, and improve the overall design process.\n",
       "5. **Marketing and Advertising**: Generative AI can be used to create personalized advertising campaigns, generate social media ads, and develop targeted marketing content.\n",
       "6. **Customer Service**: Generative AI chatbots can be used to provide customer support, answer common questions, and even resolve simple issues on their own.\n",
       "7. **Analysis and Reporting**: Generative AI can analyze large datasets and generate reports, providing insights and recommendations for businesses.\n",
       "8. **Translation and Localization**: Generative AI can translate text and speech in real-time, helping companies expand their global reach.\n",
       "9. **Data Visualization**: Generative AI can create interactive data visualizations, making complex data more engaging and accessible to audiences.\n",
       "10. **Education and Learning**: Generative AI can be used to create personalized learning materials, generate educational content, and even develop adaptive assessments.\n",
       "\n",
       "Some specific business applications of Generative AI include:\n",
       "\n",
       "* **AI-powered chatbots** for customer service\n",
       "* **Automated proofreading and editing tools** for writing and publishing\n",
       "* **Genome editing tools** for biotechnology companies\n",
       "* **Generative design platforms** for architecture and engineering firms\n",
       "* **Intelligent market trends analysis tools** for financial institutions\n",
       "\n",
       "These are just a few examples of the many business applications of Generative AI. As the technology continues to evolve, we can expect to see even more innovative uses across various industries."
      ],
      "text/plain": [
       "<IPython.core.display.Markdown object>"
      ]
     },
     "metadata": {},
     "output_type": "display_data"
    }
   ],
   "source": [
    "# There's actually an alternative approach that some people might prefer\n",
    "# You can use the OpenAI client python library to call Ollama:\n",
    "\n",
    "from openai import OpenAI\n",
    "ollama_via_openai = OpenAI(base_url='http://localhost:11434/v1', api_key='ollama')\n",
    "\n",
    "response = ollama_via_openai.chat.completions.create(\n",
    "    model=MODEL,\n",
    "    messages=messages\n",
    ")\n",
    "\n",
    "mdText = response.choices[0].message.content\n",
    "display(Markdown(mdText))"
   ]
  },
  {
   "cell_type": "markdown",
   "id": "1622d9bb-5c68-4d4e-9ca4-b492c751f898",
   "metadata": {},
   "source": [
    "# NOW the exercise for you\n",
    "\n",
    "Take the code from day1 and incorporate it here, to build a website summarizer that uses Llama 3.2 running locally instead of OpenAI; use either of the above approaches."
   ]
  },
  {
   "cell_type": "code",
   "execution_count": 11,
   "id": "402d5686-4e76-4110-b65a-b3906c35c0a4",
   "metadata": {},
   "outputs": [
    {
     "data": {
      "text/markdown": [
       "**Summary of Guilherme Sesterheim's Website**\n",
       "=============================================\n",
       "\n",
       "This website belongs to Guilherme Sesterheim, a writer and IT professional. The content is focused on sharing experiences and knowledge on various IT subjects.\n",
       "\n",
       "### Articles\n",
       "\n",
       "* **\"Are you a micromanager?\" (Aug 18, 2024)**: An article discussing the impacts of being a micromanager and encouraging self-reflection.\n",
       "* **\"Terraform code organization best practices\" (Apr 10, 2024)**: A post on Terraform code organization, highlighting its importance in infrastructure setup.\n",
       "* **\"4 Books you Should Read to Become a DevOps Engineer\" (Jun 9, 2021)**: A list of recommended books for aspiring DevOps Engineers.\n",
       "* **\"6 steps for the best feedback you'll ever give\" (Jun 9, 2021)**: An article on giving effective feedback, based on the author's experience leading IT teams.\n",
       "* **\"Design is one of the base investments...\" (Jun 9, 2021)**: A post discussing the importance of design in digital products.\n",
       "* **\"THE NEW COMPANIES OF THE DIGITAL SOCIETY\" (Jun 9, 2021)**: An article exploring new business models and their differences from traditional ones.\n",
       "* **\"@MIT: CLOUD & DEVOPS — PART 1\" (Jun 9, 2021)**: A series of articles on Cloud & DevOps, with a focus on continuous transformation.\n",
       "\n",
       "### Tags\n",
       "\n",
       "The website focuses on various IT subjects, including:\n",
       "\n",
       "* DevOps\n",
       "* Kubernetes\n",
       "* Microservices\n",
       "* Terraform\n",
       "* Ansible\n",
       "* Java"
      ],
      "text/plain": [
       "<IPython.core.display.Markdown object>"
      ]
     },
     "metadata": {},
     "output_type": "display_data"
    }
   ],
   "source": [
    "import requests\n",
    "from dotenv import load_dotenv\n",
    "from bs4 import BeautifulSoup\n",
    "from IPython.display import Markdown, display\n",
    "import ollama\n",
    "\n",
    "headers = {\n",
    " \"User-Agent\": \"Mozilla/5.0 (Windows NT 10.0; Win64; x64) AppleWebKit/537.36 (KHTML, like Gecko) Chrome/117.0.0.0 Safari/537.36\"\n",
    "}\n",
    "system_prompt = \"You are an assistant that analyzes the contents of a website \\\n",
    "and provides a short summary, ignoring text that might be navigation related. \\\n",
    "Respond in markdown.\"\n",
    "\n",
    "class Website:\n",
    "\n",
    "    def __init__(self, url):\n",
    "        \"\"\"\n",
    "        Create this Website object from the given url using the BeautifulSoup library\n",
    "        \"\"\"\n",
    "        self.url = url\n",
    "        response = requests.get(url, headers=headers)\n",
    "        soup = BeautifulSoup(response.content, 'html.parser')\n",
    "        self.title = soup.title.string if soup.title else \"No title found\"\n",
    "        for irrelevant in soup.body([\"script\", \"style\", \"img\", \"input\"]):\n",
    "            irrelevant.decompose()\n",
    "        self.text = soup.body.get_text(separator=\"\\n\", strip=True)\n",
    "\n",
    "def user_prompt_for(website):\n",
    "    user_prompt = f\"You are looking at a website titled {website.title}\"\n",
    "    user_prompt += \"\\nThe contents of this website is as follows; \\\n",
    "please provide a short summary of this website in markdown. \\\n",
    "If it includes news or announcements, then summarize these too.\\n\\n\"\n",
    "    user_prompt += website.text\n",
    "    return user_prompt\n",
    "\n",
    "def messages_for(website):\n",
    "    return [\n",
    "        {\"role\": \"system\", \"content\": system_prompt},\n",
    "        {\"role\": \"user\", \"content\": user_prompt_for(website)}\n",
    "    ]\n",
    "\n",
    "def summarize(url):\n",
    "    website = Website(url)\n",
    "    response = ollama.chat(model=MODEL, messages=messages_for(website))\n",
    "    return response['message']['content']\n",
    "\n",
    "def display_summary(url):\n",
    "    summary = summarize(url)\n",
    "    display(Markdown(summary))\n",
    "\n",
    "display_summary(\"http://sesterheim.com.br\")\n"
   ]
  }
 ],
 "metadata": {
  "kernelspec": {
   "display_name": "Python 3 (ipykernel)",
   "language": "python",
   "name": "python3"
  },
  "language_info": {
   "codemirror_mode": {
    "name": "ipython",
    "version": 3
   },
   "file_extension": ".py",
   "mimetype": "text/x-python",
   "name": "python",
   "nbconvert_exporter": "python",
   "pygments_lexer": "ipython3",
   "version": "3.11.11"
  }
 },
 "nbformat": 4,
 "nbformat_minor": 5
}
